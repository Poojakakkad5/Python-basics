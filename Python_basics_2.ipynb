{
  "nbformat": 4,
  "nbformat_minor": 0,
  "metadata": {
    "colab": {
      "provenance": []
    },
    "kernelspec": {
      "name": "python3",
      "display_name": "Python 3"
    },
    "language_info": {
      "name": "python"
    }
  },
  "cells": [
    {
      "cell_type": "code",
      "execution_count": null,
      "metadata": {
        "colab": {
          "base_uri": "https://localhost:8080/"
        },
        "id": "aNavHx0Z83yP",
        "outputId": "a4cdb21b-b60a-4a14-84a0-870cb474d4b2"
      },
      "outputs": [
        {
          "output_type": "execute_result",
          "data": {
            "text/plain": [
              "4"
            ]
          },
          "metadata": {},
          "execution_count": 2
        }
      ],
      "source": [
        "#Nested List - List inside a list\n",
        "\n",
        "L1=[['pooja','loves','icecream'],[1,2,3,4]]\n",
        "\n",
        "L1[1][3]     #accessing element 3 from list index 1"
      ]
    },
    {
      "cell_type": "code",
      "source": [
        "#adding elements of 2 list\n",
        "\n",
        "L1[0][:2]+L1[1][:-1]"
      ],
      "metadata": {
        "colab": {
          "base_uri": "https://localhost:8080/"
        },
        "id": "sWbdB5cY_ZTi",
        "outputId": "a897c3aa-1b41-4282-b655-b0332ca8c63a"
      },
      "execution_count": null,
      "outputs": [
        {
          "output_type": "execute_result",
          "data": {
            "text/plain": [
              "['pooja', 'loves', 1, 2, 3]"
            ]
          },
          "metadata": {},
          "execution_count": 3
        }
      ]
    },
    {
      "cell_type": "code",
      "source": [
        "L=[1,2,3,4]\n",
        "\n",
        "L.append('pooja')\n",
        "\n",
        "print(L)"
      ],
      "metadata": {
        "colab": {
          "base_uri": "https://localhost:8080/"
        },
        "id": "xO_hSDnOBwMw",
        "outputId": "faef34b6-250e-4cfc-930a-45ec722fbb57"
      },
      "execution_count": null,
      "outputs": [
        {
          "output_type": "stream",
          "name": "stdout",
          "text": [
            "[1, 2, 3, 4, 'pooja']\n"
          ]
        }
      ]
    },
    {
      "cell_type": "code",
      "source": [
        "L1.append('python')\n",
        "\n",
        "print(L1)"
      ],
      "metadata": {
        "colab": {
          "base_uri": "https://localhost:8080/"
        },
        "id": "PEIPoMOoCH3C",
        "outputId": "8b859a83-4073-4d5e-b8b2-3b2e1ae8cb7b"
      },
      "execution_count": null,
      "outputs": [
        {
          "output_type": "stream",
          "name": "stdout",
          "text": [
            "[['pooja', 'loves', 'icecream'], [1, 2, 3, 4], 'python']\n"
          ]
        }
      ]
    },
    {
      "cell_type": "code",
      "source": [
        "L.insert(2,'kakkad')\n",
        "print(L)"
      ],
      "metadata": {
        "colab": {
          "base_uri": "https://localhost:8080/"
        },
        "id": "lgihWVSEGXgx",
        "outputId": "6e3973aa-8dac-477f-ebb2-4f9865b01433"
      },
      "execution_count": null,
      "outputs": [
        {
          "output_type": "stream",
          "name": "stdout",
          "text": [
            "[1, 2, 'kakkad', 3, 4, 'pooja']\n"
          ]
        }
      ]
    },
    {
      "cell_type": "code",
      "source": [
        "#Extend - it adds multiple elements at the end of the list, string etc\n",
        "\n",
        "L1.extend(['this', 'is','an', 'example'])\n",
        "\n",
        "print(L1)"
      ],
      "metadata": {
        "colab": {
          "base_uri": "https://localhost:8080/"
        },
        "id": "oCdBQ1cFYCrm",
        "outputId": "7c72caa4-13ce-4e8f-9819-2358f395ba2a"
      },
      "execution_count": null,
      "outputs": [
        {
          "output_type": "stream",
          "name": "stdout",
          "text": [
            "[['pooja', 'loves', 'icecream'], [1, 2, 3, 4], 'python', 'this', 'is', 'an', 'example']\n"
          ]
        }
      ]
    },
    {
      "cell_type": "code",
      "source": [
        "L1.remove('is')\n",
        "\n",
        "print(L1)"
      ],
      "metadata": {
        "colab": {
          "base_uri": "https://localhost:8080/"
        },
        "id": "Nru2xzDLYppd",
        "outputId": "940d12b0-e137-468a-ff12-745ab026358a"
      },
      "execution_count": null,
      "outputs": [
        {
          "output_type": "stream",
          "name": "stdout",
          "text": [
            "[['pooja', 'loves', 'icecream'], [1, 2, 3, 4], 'python', 'this', 'an', 'example']\n"
          ]
        }
      ]
    },
    {
      "cell_type": "code",
      "source": [
        "#sum- it adds all the elements of a list\n",
        "\n",
        "l1=[2,3,4,5,6,7,1,2,8,9]\n",
        "\n",
        "sum(l1)"
      ],
      "metadata": {
        "colab": {
          "base_uri": "https://localhost:8080/"
        },
        "id": "iepi8mWZcB2_",
        "outputId": "2186f7c4-933c-4317-e8d8-c38f77ae2a25"
      },
      "execution_count": null,
      "outputs": [
        {
          "output_type": "execute_result",
          "data": {
            "text/plain": [
              "47"
            ]
          },
          "metadata": {},
          "execution_count": 9
        }
      ]
    },
    {
      "cell_type": "code",
      "source": [
        "max(l1), min(l1)"
      ],
      "metadata": {
        "colab": {
          "base_uri": "https://localhost:8080/"
        },
        "id": "aTTS0biNch1A",
        "outputId": "7081e60d-3dfc-41ef-9293-fe3f9bdd3585"
      },
      "execution_count": null,
      "outputs": [
        {
          "output_type": "execute_result",
          "data": {
            "text/plain": [
              "(9, 1)"
            ]
          },
          "metadata": {},
          "execution_count": 10
        }
      ]
    },
    {
      "cell_type": "markdown",
      "source": [
        "It prints the minimum nd maximum value of the list"
      ],
      "metadata": {
        "id": "4DXE5-bwc46U"
      }
    },
    {
      "cell_type": "code",
      "source": [
        "#count()\n",
        "\n",
        "l1.count(2)"
      ],
      "metadata": {
        "colab": {
          "base_uri": "https://localhost:8080/"
        },
        "id": "WH4AJvPGc37B",
        "outputId": "1c5654ac-deb4-4242-bf75-8159131dcb6f"
      },
      "execution_count": null,
      "outputs": [
        {
          "output_type": "execute_result",
          "data": {
            "text/plain": [
              "2"
            ]
          },
          "metadata": {},
          "execution_count": 11
        }
      ]
    },
    {
      "cell_type": "code",
      "source": [
        "l1.count(9)"
      ],
      "metadata": {
        "colab": {
          "base_uri": "https://localhost:8080/"
        },
        "id": "USLyhIbndLKE",
        "outputId": "c7d4f6e8-0f84-4acd-81d2-d352f48d2f7b"
      },
      "execution_count": null,
      "outputs": [
        {
          "output_type": "execute_result",
          "data": {
            "text/plain": [
              "1"
            ]
          },
          "metadata": {},
          "execution_count": 12
        }
      ]
    },
    {
      "cell_type": "markdown",
      "source": [
        "Count function will give the frequency of an element, that means the no. Of times that element is present/repeated in the given list"
      ],
      "metadata": {
        "id": "mhUiJBEBdPFA"
      }
    },
    {
      "cell_type": "code",
      "source": [
        "#length\n",
        "\n",
        "len(l1)"
      ],
      "metadata": {
        "colab": {
          "base_uri": "https://localhost:8080/"
        },
        "id": "KWRT088BdcLE",
        "outputId": "95df6bbc-6add-43ff-f490-a906821c4ae0"
      },
      "execution_count": null,
      "outputs": [
        {
          "output_type": "execute_result",
          "data": {
            "text/plain": [
              "10"
            ]
          },
          "metadata": {},
          "execution_count": 13
        }
      ]
    },
    {
      "cell_type": "markdown",
      "source": [
        "Length() given the lengths of the list I e., the number of elements in a given list"
      ],
      "metadata": {
        "id": "YMjP-XsidvSw"
      }
    },
    {
      "cell_type": "code",
      "source": [
        "#OPERATOTS - +,-,*,/,//,%,**\n",
        "\n",
        "2+5 #+ operand will add the numbers"
      ],
      "metadata": {
        "colab": {
          "base_uri": "https://localhost:8080/"
        },
        "id": "1vZlSieJd4oH",
        "outputId": "8b7ffc43-3d75-4f71-e1a4-44d349e961ad"
      },
      "execution_count": null,
      "outputs": [
        {
          "output_type": "execute_result",
          "data": {
            "text/plain": [
              "7"
            ]
          },
          "metadata": {},
          "execution_count": 14
        }
      ]
    },
    {
      "cell_type": "code",
      "source": [
        "2-5 #- operand will subtract the numbers"
      ],
      "metadata": {
        "colab": {
          "base_uri": "https://localhost:8080/"
        },
        "id": "KDuF9D7zeUK-",
        "outputId": "4f7f2423-24c7-4bab-efc6-96ac08b6672c"
      },
      "execution_count": null,
      "outputs": [
        {
          "output_type": "execute_result",
          "data": {
            "text/plain": [
              "-3"
            ]
          },
          "metadata": {},
          "execution_count": 15
        }
      ]
    },
    {
      "cell_type": "code",
      "source": [
        "2*5 #it is a multiplication operand"
      ],
      "metadata": {
        "colab": {
          "base_uri": "https://localhost:8080/"
        },
        "id": "NQsIRvkfeZp1",
        "outputId": "a6f7ab46-536e-4c45-bb4e-e14992400635"
      },
      "execution_count": null,
      "outputs": [
        {
          "output_type": "execute_result",
          "data": {
            "text/plain": [
              "10"
            ]
          },
          "metadata": {},
          "execution_count": 16
        }
      ]
    },
    {
      "cell_type": "code",
      "source": [
        "5**2 #** operand is the exponent operand, it finds the power of that number"
      ],
      "metadata": {
        "colab": {
          "base_uri": "https://localhost:8080/"
        },
        "id": "Cmad84iBeeqU",
        "outputId": "e26b3b26-e727-4f22-9d3c-a06a4e36a179"
      },
      "execution_count": null,
      "outputs": [
        {
          "output_type": "execute_result",
          "data": {
            "text/plain": [
              "25"
            ]
          },
          "metadata": {},
          "execution_count": 17
        }
      ]
    },
    {
      "cell_type": "code",
      "source": [
        "5/2 #it gives the quotient of the operators"
      ],
      "metadata": {
        "colab": {
          "base_uri": "https://localhost:8080/"
        },
        "id": "ijruvL8TevC-",
        "outputId": "e664855b-d279-4109-dd2a-c529572bf35d"
      },
      "execution_count": null,
      "outputs": [
        {
          "output_type": "execute_result",
          "data": {
            "text/plain": [
              "2.5"
            ]
          },
          "metadata": {},
          "execution_count": 18
        }
      ]
    },
    {
      "cell_type": "code",
      "source": [
        "5//2 #it gives the integer quotient of the numbers"
      ],
      "metadata": {
        "colab": {
          "base_uri": "https://localhost:8080/"
        },
        "id": "KN1c4-0ee13a",
        "outputId": "c6c5aa74-5a71-4b97-963c-39a8483fa50b"
      },
      "execution_count": null,
      "outputs": [
        {
          "output_type": "execute_result",
          "data": {
            "text/plain": [
              "2"
            ]
          },
          "metadata": {},
          "execution_count": 19
        }
      ]
    },
    {
      "cell_type": "code",
      "source": [
        "5%2 #percrbtile/modulo operator gives the reminder of the number"
      ],
      "metadata": {
        "colab": {
          "base_uri": "https://localhost:8080/"
        },
        "id": "7no_8IZie-4H",
        "outputId": "92e3e94a-48e4-428c-aa8d-0cd8d6fe821d"
      },
      "execution_count": null,
      "outputs": [
        {
          "output_type": "execute_result",
          "data": {
            "text/plain": [
              "1"
            ]
          },
          "metadata": {},
          "execution_count": 20
        }
      ]
    },
    {
      "cell_type": "markdown",
      "source": [
        "#Data Structures - are containers which organise and group data according to the type.\n",
        "\n",
        "#Data structures in python are of 3 types basically\n",
        "\n",
        "1. Dictionaries - key value pair\n",
        "2. Tuples - ()\n",
        "3. Sets - {}"
      ],
      "metadata": {
        "id": "UYER4DwJh1GX"
      }
    },
    {
      "cell_type": "code",
      "source": [
        "\n",
        "#Dictionaries - are used to store the element in a key value pair format\n",
        "\n",
        "l2={'first':'name', 'second':'name','age':20,'year':2023}\n",
        "\n",
        "print(l2)"
      ],
      "metadata": {
        "colab": {
          "base_uri": "https://localhost:8080/"
        },
        "id": "pF1bggsbhwlS",
        "outputId": "377ee3e2-eb96-43d7-f06f-9525c1459c28"
      },
      "execution_count": null,
      "outputs": [
        {
          "output_type": "stream",
          "name": "stdout",
          "text": [
            "{'first': 'name', 'second': 'name', 'age': 20, 'year': 2023}\n"
          ]
        }
      ]
    },
    {
      "cell_type": "markdown",
      "source": [
        "Slicing is not possible in Dictionary, indexing can be done using keys not the index number. For ex -"
      ],
      "metadata": {
        "id": "ebptNKIAi-pb"
      }
    },
    {
      "cell_type": "code",
      "source": [
        "l2['first'] #first is the key nd its value is name"
      ],
      "metadata": {
        "colab": {
          "base_uri": "https://localhost:8080/",
          "height": 35
        },
        "id": "ThFq9oZpjLkN",
        "outputId": "20c159f0-946f-49ba-af7a-8dd2dbb8820a"
      },
      "execution_count": null,
      "outputs": [
        {
          "output_type": "execute_result",
          "data": {
            "text/plain": [
              "'name'"
            ],
            "application/vnd.google.colaboratory.intrinsic+json": {
              "type": "string"
            }
          },
          "metadata": {},
          "execution_count": 22
        }
      ]
    },
    {
      "cell_type": "code",
      "source": [
        "l2['name']='pooja'\n",
        "\n",
        "print(l2)"
      ],
      "metadata": {
        "colab": {
          "base_uri": "https://localhost:8080/"
        },
        "id": "C6ifh3Xxjcyx",
        "outputId": "f0161d18-502d-4914-ad66-86f22d098dc9"
      },
      "execution_count": null,
      "outputs": [
        {
          "output_type": "stream",
          "name": "stdout",
          "text": [
            "{'first': 'name', 'second': 'name', 'age': 20, 'year': 2023, 'name': 'pooja'}\n"
          ]
        }
      ]
    },
    {
      "cell_type": "markdown",
      "source": [
        "Adding a new key value pair is possible I e., append, but slicing is not being supported by Dictionary"
      ],
      "metadata": {
        "id": "3LFuzY55jwZ8"
      }
    },
    {
      "cell_type": "markdown",
      "source": [
        "We can modify any key value pair and delete also as follows -"
      ],
      "metadata": {
        "id": "Try5LqyUkEfj"
      }
    },
    {
      "cell_type": "code",
      "source": [
        "l2['second']='kakkad'\n",
        "\n",
        "print(l2)"
      ],
      "metadata": {
        "colab": {
          "base_uri": "https://localhost:8080/"
        },
        "id": "fPkbDmaZkJ-N",
        "outputId": "3b4e7d95-d856-4715-d298-1762758e84dd"
      },
      "execution_count": null,
      "outputs": [
        {
          "output_type": "stream",
          "name": "stdout",
          "text": [
            "{'first': 'name', 'second': 'kakkad', 'age': 20, 'year': 2023, 'name': 'pooja'}\n"
          ]
        }
      ]
    },
    {
      "cell_type": "code",
      "source": [
        "del l2['second']\n",
        "\n",
        "print(l2)"
      ],
      "metadata": {
        "id": "Hqmw-rWRkbqz",
        "colab": {
          "base_uri": "https://localhost:8080/"
        },
        "outputId": "c5f4ddf4-9803-452b-883c-02275871073e"
      },
      "execution_count": null,
      "outputs": [
        {
          "output_type": "stream",
          "name": "stdout",
          "text": [
            "{'first': 'name', 'age': 20, 'year': 2023, 'name': 'pooja'}\n"
          ]
        }
      ]
    },
    {
      "cell_type": "markdown",
      "source": [
        "Tuples - ()\n",
        "are same like list but they are unchangeable/immutable - adding, deleting or modifying an element is not possible, but indexing and slicing is possible"
      ],
      "metadata": {
        "id": "AKSDiOqPmBCZ"
      }
    },
    {
      "cell_type": "code",
      "source": [
        "t=('yeh', 'mera', 'India', 1,2)\n",
        "\n",
        "print(t)"
      ],
      "metadata": {
        "colab": {
          "base_uri": "https://localhost:8080/"
        },
        "id": "Xlep0awjmQw-",
        "outputId": "7779a2ff-4941-41d3-bf98-fd71801243d8"
      },
      "execution_count": null,
      "outputs": [
        {
          "output_type": "stream",
          "name": "stdout",
          "text": [
            "('yeh', 'mera', 'India', 1, 2)\n"
          ]
        }
      ]
    },
    {
      "cell_type": "code",
      "source": [
        "type(t)"
      ],
      "metadata": {
        "colab": {
          "base_uri": "https://localhost:8080/"
        },
        "id": "Tg0guqLemppE",
        "outputId": "461be309-58c9-43cc-db7a-c7ff767d063d"
      },
      "execution_count": null,
      "outputs": [
        {
          "output_type": "execute_result",
          "data": {
            "text/plain": [
              "tuple"
            ]
          },
          "metadata": {},
          "execution_count": 27
        }
      ]
    },
    {
      "cell_type": "markdown",
      "source": [
        "type() will gives the datatype of the variable"
      ],
      "metadata": {
        "id": "zVQTe-WOmwOv"
      }
    },
    {
      "cell_type": "code",
      "source": [
        "#Sets - {}\n",
        "\n",
        "s={1,2,3,6,5,7,2,4,5}\n",
        "\n",
        "print(s)"
      ],
      "metadata": {
        "colab": {
          "base_uri": "https://localhost:8080/"
        },
        "id": "X4QXRl61nwBw",
        "outputId": "837b404b-bd7a-4f6e-93a2-b4adaa0ac71e"
      },
      "execution_count": null,
      "outputs": [
        {
          "output_type": "stream",
          "name": "stdout",
          "text": [
            "{1, 2, 3, 4, 5, 6, 7}\n"
          ]
        }
      ]
    },
    {
      "cell_type": "markdown",
      "source": [
        "Sets has random inner shuffling quality, it re-orders the numbers sequentially and removes the duplicate/repeated numbers."
      ],
      "metadata": {
        "id": "kkX7iqfppHj2"
      }
    },
    {
      "cell_type": "code",
      "source": [
        "t[-5:4]"
      ],
      "metadata": {
        "id": "htHq3GL6pc1c",
        "colab": {
          "base_uri": "https://localhost:8080/"
        },
        "outputId": "5d7856d0-c3a0-4051-cd2a-6ed4513ba0dc"
      },
      "execution_count": null,
      "outputs": [
        {
          "output_type": "execute_result",
          "data": {
            "text/plain": [
              "('yeh', 'mera', 'India', 1)"
            ]
          },
          "metadata": {},
          "execution_count": 31
        }
      ]
    },
    {
      "cell_type": "markdown",
      "source": [
        "Indexing and slicing in Tuple"
      ],
      "metadata": {
        "id": "a1GAuikIBwKG"
      }
    },
    {
      "cell_type": "code",
      "source": [],
      "metadata": {
        "id": "t6uGjrCbpYvp"
      },
      "execution_count": null,
      "outputs": []
    }
  ]
}