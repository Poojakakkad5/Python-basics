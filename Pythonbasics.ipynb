{
  "nbformat": 4,
  "nbformat_minor": 0,
  "metadata": {
    "colab": {
      "provenance": []
    },
    "kernelspec": {
      "name": "python3",
      "display_name": "Python 3"
    },
    "language_info": {
      "name": "python"
    }
  },
  "cells": [
    {
      "cell_type": "code",
      "execution_count": null,
      "metadata": {
        "id": "0d1TJGWDlLPr"
      },
      "outputs": [],
      "source": [
        "#Code cell - We can write the code in a code cell"
      ]
    },
    {
      "cell_type": "markdown",
      "source": [
        "This is a text cell which cannot be executed by the compiler and this is for our understanding"
      ],
      "metadata": {
        "id": "XxKRjxIfljdx"
      }
    },
    {
      "cell_type": "code",
      "source": [
        "print(\"@\")"
      ],
      "metadata": {
        "colab": {
          "base_uri": "https://localhost:8080/"
        },
        "id": "jOXpqK10lp2Q",
        "outputId": "83f272fe-1faf-43e9-c672-41fa79ae13af"
      },
      "execution_count": null,
      "outputs": [
        {
          "output_type": "stream",
          "name": "stdout",
          "text": [
            "@\n"
          ]
        }
      ]
    },
    {
      "cell_type": "markdown",
      "source": [
        "Print function is used to print something on the output device/screen"
      ],
      "metadata": {
        "id": "73lPUlqamPmJ"
      }
    },
    {
      "cell_type": "code",
      "source": [
        "#x=input(\"give a number\")\n",
        "#print(x)"
      ],
      "metadata": {
        "id": "gscsL4xHmVVw"
      },
      "execution_count": null,
      "outputs": []
    },
    {
      "cell_type": "markdown",
      "source": [
        "input function is used to pass any input to the input device"
      ],
      "metadata": {
        "id": "zLTev0n-mf6C"
      }
    },
    {
      "cell_type": "code",
      "source": [
        "#Datatypes in Python - Integer, Float,strings,lists,boolean\n",
        "\n",
        "#Integer\n",
        "\n",
        "x=3.5\n",
        "print(int(x))"
      ],
      "metadata": {
        "id": "m94s9IEfmnJE",
        "colab": {
          "base_uri": "https://localhost:8080/"
        },
        "outputId": "4c5aa40b-0141-4f32-9f3e-1580117fabe6"
      },
      "execution_count": null,
      "outputs": [
        {
          "output_type": "stream",
          "name": "stdout",
          "text": [
            "3\n"
          ]
        }
      ]
    },
    {
      "cell_type": "markdown",
      "source": [
        "Int function takes only the whole number, and it will round off the decimal value"
      ],
      "metadata": {
        "id": "dfCgqqS-nN-Y"
      }
    },
    {
      "cell_type": "code",
      "source": [
        "#float datatype\n",
        "\n",
        "x=29\n",
        "print(float(x))"
      ],
      "metadata": {
        "id": "C2dE1orAnUMD",
        "colab": {
          "base_uri": "https://localhost:8080/"
        },
        "outputId": "872be60f-40c6-4625-8bb1-65e88a58cf6b"
      },
      "execution_count": null,
      "outputs": [
        {
          "output_type": "stream",
          "name": "stdout",
          "text": [
            "29.0\n"
          ]
        }
      ]
    },
    {
      "cell_type": "markdown",
      "source": [
        "Float datatype gives the decimal value"
      ],
      "metadata": {
        "id": "-Y6Evywunbg_"
      }
    },
    {
      "cell_type": "code",
      "source": [
        "#Lists - it is used to store multiple items in a single variable.\n",
        "#It is represented with [] square brackets\n",
        "\n",
        "list=['pooja', 'kakkad', 1, 2]\n",
        "print(list)"
      ],
      "metadata": {
        "id": "iZawLj1vnf7q",
        "colab": {
          "base_uri": "https://localhost:8080/"
        },
        "outputId": "3bef4c43-c931-4d43-8dab-d762225a24f3"
      },
      "execution_count": null,
      "outputs": [
        {
          "output_type": "stream",
          "name": "stdout",
          "text": [
            "['pooja', 'kakkad', 1, 2]\n"
          ]
        }
      ]
    },
    {
      "cell_type": "code",
      "source": [
        "#Strings - Strings store a word under \"\" or ''\n",
        "\n",
        "name='python'\n",
        "print(str(name))"
      ],
      "metadata": {
        "id": "qXZZkbXsoULv",
        "colab": {
          "base_uri": "https://localhost:8080/"
        },
        "outputId": "900447a1-f516-43d6-cdf0-40a2aedce556"
      },
      "execution_count": null,
      "outputs": [
        {
          "output_type": "stream",
          "name": "stdout",
          "text": [
            "python\n"
          ]
        }
      ]
    },
    {
      "cell_type": "code",
      "source": [
        "#boolean function writes only true or false as output\n",
        "\n",
        "a=5\n",
        "b=4\n",
        "\n",
        "if a>b:\n",
        "  print(a)\n",
        "\n",
        "else:\n",
        "  print(b)"
      ],
      "metadata": {
        "id": "JpBSViSkpWQF",
        "colab": {
          "base_uri": "https://localhost:8080/"
        },
        "outputId": "d249692c-56ca-4364-b892-10c990834246"
      },
      "execution_count": null,
      "outputs": [
        {
          "output_type": "stream",
          "name": "stdout",
          "text": [
            "5\n"
          ]
        }
      ]
    },
    {
      "cell_type": "code",
      "source": [
        "#Operations on Strings and Lists\n",
        "\n",
        "#concationation - adding 2 different list\n",
        "\n",
        "list1=[1,2,3,4]\n",
        "list2=['pooja', 'kakkad']\n",
        "\n",
        "#concatination '+'\n",
        "\n",
        "print(list1+list2)"
      ],
      "metadata": {
        "id": "sMlYyf14sohQ",
        "colab": {
          "base_uri": "https://localhost:8080/"
        },
        "outputId": "0e36938c-8fae-4d60-ed79-439818168620"
      },
      "execution_count": null,
      "outputs": [
        {
          "output_type": "stream",
          "name": "stdout",
          "text": [
            "[1, 2, 3, 4, 'pooja', 'kakkad']\n"
          ]
        }
      ]
    },
    {
      "cell_type": "markdown",
      "source": [
        "Concatenation '+' symbol will combine both the list and add the values of 2nd list to the 1st list"
      ],
      "metadata": {
        "id": "ChGpOvJ1tEdE"
      }
    },
    {
      "cell_type": "code",
      "source": [
        "#String concatenation - same as dat of list\n",
        "\n",
        "str1='pooja'\n",
        "str2=\"kakkad\"\n",
        "\n",
        "print(str1,'' + str2) #'' is for space"
      ],
      "metadata": {
        "id": "pXzsxLoktQTt",
        "colab": {
          "base_uri": "https://localhost:8080/"
        },
        "outputId": "6689c927-fe1b-4961-a1bd-2951d80390e8"
      },
      "execution_count": null,
      "outputs": [
        {
          "output_type": "stream",
          "name": "stdout",
          "text": [
            "pooja kakkad\n"
          ]
        }
      ]
    },
    {
      "cell_type": "code",
      "source": [
        "#List Indexing - fetching one number at a time,  giving numbering based on the positions - it can be +ve or -ve from left to right or vice versa respectively\n",
        "\n",
        "list1[0],list1[3]"
      ],
      "metadata": {
        "id": "itqPPrv8uIGy",
        "colab": {
          "base_uri": "https://localhost:8080/"
        },
        "outputId": "c219b698-acd8-4e05-8a5f-7faedf77e94d"
      },
      "execution_count": null,
      "outputs": [
        {
          "output_type": "execute_result",
          "data": {
            "text/plain": [
              "(1, 4)"
            ]
          },
          "metadata": {},
          "execution_count": 11
        }
      ]
    },
    {
      "cell_type": "code",
      "source": [
        "#String indexing\n",
        "\n",
        "str1[-2], str2[-6]"
      ],
      "metadata": {
        "id": "micVXKnYulYa",
        "colab": {
          "base_uri": "https://localhost:8080/"
        },
        "outputId": "a72596cb-bea7-4e38-9565-b610fab94ffb"
      },
      "execution_count": null,
      "outputs": [
        {
          "output_type": "execute_result",
          "data": {
            "text/plain": [
              "('j', 'k')"
            ]
          },
          "metadata": {},
          "execution_count": 12
        }
      ]
    },
    {
      "cell_type": "markdown",
      "source": [
        "We can combine positive and negative indexing"
      ],
      "metadata": {
        "id": "eHAAODNWu_ck"
      }
    },
    {
      "cell_type": "code",
      "source": [
        "#Slicing - fetching multiple elements at a time.\n",
        "\n",
        "list1[0:6]"
      ],
      "metadata": {
        "id": "uZxk6o4IvDFp",
        "colab": {
          "base_uri": "https://localhost:8080/"
        },
        "outputId": "e6074ed0-27a5-4da2-f176-3b2c8d2e6549"
      },
      "execution_count": null,
      "outputs": [
        {
          "output_type": "execute_result",
          "data": {
            "text/plain": [
              "[1, 2, 3, 4]"
            ]
          },
          "metadata": {},
          "execution_count": 13
        }
      ]
    },
    {
      "cell_type": "code",
      "source": [
        "str2[-6:5]"
      ],
      "metadata": {
        "id": "a629LCDLtMxy",
        "colab": {
          "base_uri": "https://localhost:8080/",
          "height": 35
        },
        "outputId": "802ee4f2-5d3b-415a-9d67-eb17afd103cd"
      },
      "execution_count": null,
      "outputs": [
        {
          "output_type": "execute_result",
          "data": {
            "text/plain": [
              "'kakka'"
            ],
            "application/vnd.google.colaboratory.intrinsic+json": {
              "type": "string"
            }
          },
          "metadata": {},
          "execution_count": 14
        }
      ]
    },
    {
      "cell_type": "code",
      "source": [
        "#sum- it adds all the elements of a list\n",
        "\n",
        "l1=[2,3,4,5,6,7,1,8,9]\n",
        "\n",
        "sum(l1)"
      ],
      "metadata": {
        "id": "Zc9bDE71bJMo",
        "colab": {
          "base_uri": "https://localhost:8080/"
        },
        "outputId": "612ae597-b5db-422c-9107-67cbe6231cb3"
      },
      "execution_count": null,
      "outputs": [
        {
          "output_type": "execute_result",
          "data": {
            "text/plain": [
              "45"
            ]
          },
          "metadata": {},
          "execution_count": 15
        }
      ]
    },
    {
      "cell_type": "code",
      "source": [
        "#Built-in Operations on Strings - Append, insert, remove,extend\n",
        "\n",
        "str1"
      ],
      "metadata": {
        "id": "KIB52VQvpDaD"
      },
      "execution_count": null,
      "outputs": []
    }
  ]
}